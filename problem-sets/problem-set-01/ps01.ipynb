{
 "cells": [
  {
   "cell_type": "markdown",
   "metadata": {},
   "source": [
    "# Problem Set 1\n",
    "\n",
    "Due date: `11:59pm` on `Sunday, 15th of September, 2024`"
   ]
  },
  {
   "cell_type": "markdown",
   "metadata": {},
   "source": [
    "## Instructions\n",
    "\n",
    "For each of the following 10 problems, you will be asked to define a function that takes some **inputs,** produces some **outputs,** and has some number of **side effects.**\n",
    "Each function must be named according to the problem's instructions (otherwise, grading would be a nightmare).\n",
    "\n",
    "<details><summary>Example</summary>\n",
    "\n",
    "### Example Problem\n",
    "Suppose you are asked to define a function named `example` that takes two integer inputs, prints their sum to the terminal, and then returns twice that quantity plus `1`.\n",
    "The instructions for that problem might look something like the following table.\n",
    "\n",
    "| **Name:**         | `example`                                        |\n",
    "| ----------------- | ------------------------------------------------ |\n",
    "| **Inputs:**       | (`arg1: int`, `arg2: int`)                       |\n",
    "| **Outputs:**      | (`int`)                                          |\n",
    "| **Side Effects:** | Writes the sum of `arg1` and `arg2` to `stdout`. |\n",
    "| **Restrictions:** | No `import`, `if`, `for`, `while` statements.    |\n",
    "\n",
    "This format specifies that:\n",
    "\n",
    "- the function you define *must* be named `example`.\n",
    "- the function *requires* two arguments of `int` type (it doesn't matter what they are called).\n",
    "- the function *returns* one output of `str` type (it doesn't matter what it is called).\n",
    "- the function *prints* `arg1 + arg2` to `stdout`\n",
    "- library imports, conditional statements, and iterating loops are prohibitted.\n",
    "\n",
    "A valid solution might look something like the code below.\n",
    "\n",
    "```\n",
    "def example(x, y):\n",
    "  z = x + y\n",
    "  print(z)\n",
    "  return 2*z + 1\n",
    "```\n",
    "\n",
    "</details>\n",
    "\n",
    "<details><summary>Submissions</summary>\n",
    "\n",
    "### Submitting Your Solution\n",
    "\n",
    "Your solution should be either a Python file named `ps01_<netid>.py` or an IPython Jupyter notebook named `ps01_<netid>.ipynb`.\n",
    "For example, if your NetID is `jdoe3` then your file should be named either `ps01_jdoe3.py` or `ps01_jdoe3.ipynb`.\n",
    "Your file should be uploaded directly to Canvas under the assignment created for this problem set.\n",
    "\n",
    "For the example above, a valid solution could be a file named `ps01_jdoe3.py` containing the following lines of code:\n",
    "```\n",
    "def example(x, y):\n",
    "  z = x + y\n",
    "  print(z)\n",
    "  return 2*z + 1\n",
    "```\n",
    "\n",
    "</details>"
   ]
  },
  {
   "cell_type": "markdown",
   "metadata": {},
   "source": [
    "## Problem 1\n",
    "\n",
    "Define a function that writes the message `Hello, world!` to the terminal.\n",
    "Implementing this function is a rite of passage for learning any new programming language.\n",
    "\n",
    "| **Name:**         | `hello_world`                       |\n",
    "| ----------------- | ----------------------------------- |\n",
    "| **Inputs:**       |                                     |\n",
    "| **Outputs:**      |                                     |\n",
    "| **Side Effects:** | Writes `Hello, world!` to `stdout`. |\n",
    "| **Restrictions:** |                                     |\n",
    "\n",
    "<details open><summary>Example</summary>\n",
    "\n",
    "### Example Input & Output\n",
    "\n",
    "Invoking `hello_world()` displays the following message in the terminal:\n",
    "```\n",
    "Hello, world!\n",
    "```\n",
    "\n",
    "</details>"
   ]
  },
  {
   "cell_type": "code",
   "execution_count": null,
   "metadata": {
    "vscode": {
     "languageId": "plaintext"
    }
   },
   "outputs": [],
   "source": []
  },
  {
   "cell_type": "markdown",
   "metadata": {},
   "source": [
    "## Problem 2\n",
    "\n",
    "Define a function that prompts the user to enter their name and then returns their name.\n",
    "\n",
    "| **Name:**         | `greetings`               |\n",
    "| ----------------- | ------------------------- |\n",
    "| **Inputs:**       | None.                     |\n",
    "| **Outputs:**      | (`str`)                   |\n",
    "| **Side Effects:** | Reads `var1` from `stdin` |\n",
    "| **Restrictions:** |                           |\n",
    "\n",
    "<details open><summary>Example</summary>\n",
    "\n",
    "### Example Input & Output\n",
    "\n",
    "Invoking `greetings()` prompts the user by sending the following message to `stdout`:\n",
    "```\n",
    "What is your name? \n",
    "```\n",
    "\n",
    "Suppose the user enters the following response:\n",
    "```\n",
    "What is your name? Duncan Idaho\n",
    "```\n",
    "\n",
    "The function then receives `Duncan Idaho` from `stdin` and *returns* the string `\"Duncan Idaho\"`.\n",
    "This function does not print anything to `stdout` apart from the initial prompt.\n",
    "\n",
    "</details>\n"
   ]
  },
  {
   "cell_type": "code",
   "execution_count": null,
   "metadata": {
    "vscode": {
     "languageId": "plaintext"
    }
   },
   "outputs": [],
   "source": []
  },
  {
   "cell_type": "markdown",
   "metadata": {},
   "source": [
    "## Problem 3\n",
    "\n",
    "Define a function that takes a string representing a person's name as input.\n",
    "The function mangles the string by removing everything except for the first, middle, and last characters and returning this new string.\n",
    "If the name is at most 3 characters long, then the function instead returns the string `\"???\"`.\n",
    "\n",
    "| **Name:**         | `garble`      |\n",
    "| ----------------- | ------------- |\n",
    "| **Inputs:**       | (`arg1: str`) |\n",
    "| **Outputs:**      | (`str`)       |\n",
    "| **Side Effects:** |               |\n",
    "| **Restrictions:** |               |\n",
    "\n",
    "<details open><summary>Example</summary>\n",
    "\n",
    "### Example Input & Output\n",
    "\n",
    "Invoking `garble(\"Frodo\")` returns the result `\"Foo\"`.\n",
    "\n",
    "Invoking `garble(\"Bilbo Baggins\")` returns the result `\"BBs\"`.\n",
    "\n",
    "Invoking `garble(\"Smeagol\")` returns the result `\"Sal\"`.\n",
    "\n",
    "Invoking `garble(\"Sam\")` returns the result `\"???\"`.\n",
    "\n",
    "</details>\n"
   ]
  },
  {
   "cell_type": "code",
   "execution_count": null,
   "metadata": {
    "vscode": {
     "languageId": "plaintext"
    }
   },
   "outputs": [],
   "source": []
  },
  {
   "cell_type": "markdown",
   "metadata": {},
   "source": [
    "## Problem 4\n",
    "\n",
    "Define a function that takes one string input `arg1`.\n",
    "Construct a *palindrome* by concatenating `arg1` to itself reversed and returning the result.\n",
    "\n",
    "| **Name:**         | `palindrome`  |\n",
    "| ----------------- | ------------- |\n",
    "| **Inputs:**       | (`arg1: str`) |\n",
    "| **Outputs:**      | (`str`)       |\n",
    "| **Side Effects:** |               |\n",
    "| **Restrictions:** |               |\n",
    "\n",
    "<details open><summary>Example</summary>\n",
    "\n",
    "### Example Input & Output\n",
    "\n",
    "Invoking `palindrome(\"Frodo\")` returns the result `\"FrodoodorF\"`.\n",
    "\n",
    "Invoking `palindrome(\"Bilbo Baggins\")` returns the result `\"Bilbo BagginssniggaB obliB\"`.\n",
    "\n",
    "Invoking `palindrome(\"Smeagol\")` returns the result `\"SmeagollogaemS\"`.\n",
    "\n",
    "Invoking `palindrome(\"Sam\")` returns the result `\"SammaS\"`.\n",
    "\n",
    "</details>"
   ]
  },
  {
   "cell_type": "code",
   "execution_count": null,
   "metadata": {
    "vscode": {
     "languageId": "plaintext"
    }
   },
   "outputs": [],
   "source": []
  },
  {
   "cell_type": "markdown",
   "metadata": {},
   "source": [
    "## Problem 5\n",
    "\n",
    "Define a function that decides whether an input string is a palindrome or not *agnostic to capitalization*.\n",
    "\n",
    "| **Name:**         | `is_palindrome` |\n",
    "| ----------------- | --------------- |\n",
    "| **Inputs:**       | (`arg1: str`)   |\n",
    "| **Outputs:**      | (`bool`)        |\n",
    "| **Side Effects:** |                 |\n",
    "| **Restrictions:** |                 |\n",
    "\n",
    "<details open><summary>Example</summary>\n",
    "\n",
    "### Example Input & Output\n",
    "\n",
    "Invoking `is_palindrome(\"Frodo\")` returns `False`.\n",
    "\n",
    "Invoking `is_palindrome(\"race car\")` returns `False`.\n",
    "\n",
    "Invoking `is_palindrome(\"racecar\")` returns `True`.\n",
    "\n",
    "Invoking `is_palindrome(\"Racecar\")` returns `True`.\n",
    "\n",
    "</details>"
   ]
  },
  {
   "cell_type": "code",
   "execution_count": null,
   "metadata": {
    "vscode": {
     "languageId": "plaintext"
    }
   },
   "outputs": [],
   "source": []
  },
  {
   "cell_type": "markdown",
   "metadata": {},
   "source": [
    "## Problem 6\n",
    "\n",
    "Define a function that takes the average of its two inputs.\n",
    "The inputs may be `int` or `float` type, but the output must be `float` type.\n",
    "Round your result to three decimal places using the `round(_, 3)` function.\n",
    "\n",
    "| **Name:**         | `exam_average`                           |\n",
    "| ----------------- | ---------------                          |\n",
    "| **Inputs:**       | (`arg1: int\\|float`, `arg2: int\\|float`) |\n",
    "| **Outputs:**      | (`float`)                                |\n",
    "| **Side Effects:** |                                          |\n",
    "| **Restrictions:** | Result must be rounded to `3` decimal places. |\n",
    "\n",
    "<details open><summary>Example</summary>\n",
    "\n",
    "### Example Input & Output\n",
    "\n",
    "Invoking `exam_average(1.0, 2.0)` returns `0.5`.\n",
    "\n",
    "Invoking `exam_average(1.0, 1.0)` returns `1.0`.\n",
    "\n",
    "Invoking `exam_average(1, 1)` returns `1.0`.\n",
    "\n",
    "</details>"
   ]
  },
  {
   "cell_type": "code",
   "execution_count": null,
   "metadata": {
    "vscode": {
     "languageId": "plaintext"
    }
   },
   "outputs": [],
   "source": []
  },
  {
   "cell_type": "markdown",
   "metadata": {},
   "source": [
    "## Problem 7\n",
    "\n",
    "Define a function that takes the average of its ten inputs, but only counts an input towards the average *if it is positive!*\n",
    "If none of the inputs is positive, then output `0.0`.\n",
    "The inputs may be `int` or `float` type, but the output must be `float` type.\n",
    "Round your result to three decimal places using the `round(_, 3)` function.\n",
    "\n",
    "| **Name:**         | `ps_average`                                                                                                                                                                                              |\n",
    "| ----------------- | --------------------------------------------------------------------------------------------------------------------------------------------------------------------------------------------------------- |\n",
    "| **Inputs:**       | (`arg1: int\\|float`, `arg2: int\\|float`, `arg3: int\\|float`, `arg4: int\\|float`, `arg5: int\\|float`, `arg6: int\\|float`, `arg7: int\\|float`, `arg8: int\\|float`, `arg9: int\\|float`, `arg10: int\\|float`) |\n",
    "| **Outputs:**      | (`float`)                                                                                                                                                                                                 |\n",
    "| **Side Effects:** |                                                                                                                                                                                                           |\n",
    "| **Restrictions:** | Result must be rounded to `3` decimal places.                                                                                                                                                             |\n",
    "\n",
    "<details open><summary>Example</summary>\n",
    "\n",
    "### Example Input & Output\n",
    "\n",
    "Invoking `ps_average(1.0, 2.0, 3.0, 4.0, 5.0, 6.0, 7.0, 8.0, 9.0, 10.0)` returns `5.5`.\n",
    "\n",
    "Invoking `ps_average(1.0, 0.0, 3.0, 4.0, 5.0, 0.0, 7.0, 8.0, 9.0, 10.0)` returns `5.875`.\n",
    "\n",
    "Invoking `ps_average(0.0, 0.0, 0.0, 0.0, 0.0, 0.0, 0.0, 0.0, 0.0, 0.0)` returns `0.0`.\n",
    "\n",
    "Invoking `ps_average(-1.0, -2.0, -3.0, -4.0, -5.0, -6.0, -7.0, -8.0, -9.0, -10.0)` returns `0.0`.\n",
    "\n",
    "</details>\n"
   ]
  },
  {
   "cell_type": "code",
   "execution_count": null,
   "metadata": {
    "vscode": {
     "languageId": "plaintext"
    }
   },
   "outputs": [],
   "source": []
  },
  {
   "cell_type": "markdown",
   "metadata": {},
   "source": [
    "## Problem 8\n",
    "\n",
    "Define a function that takes three arguments and returns their weighted average according to the formula given in the syllabus.\n",
    "\n",
    "- The *first* argument represents average **problem set** points.\n",
    "- The *second* argument represents average **exam** points.\n",
    "- The *third* argument represents final **project** points.\n",
    "\n",
    "All arguments and output should be between `0` and `100`.\n",
    "Round your result to three decimal places using the `round(_, 3)` function.\n",
    "\n",
    "| **Name:**         | `score`                                       |\n",
    "| ----------------- | ---------------                               |\n",
    "| **Inputs:**       | (`arg1: float`, `arg2: float`, `arg3: float`) |\n",
    "| **Outputs:**      | (`float`)                                     |\n",
    "| **Side Effects:** |                                               |\n",
    "| **Restrictions:** | Result must be rounded to `3` decimal places. |\n",
    "\n",
    "<details open><summary>Example</summary>\n",
    "\n",
    "### Example Input & Output\n",
    "\n",
    "Invoking `score(100.0, 25.0, 100.0)` returns `70.0`.\n",
    "\n",
    "Invoking `score(90.0, 50.0, 75.0)` returns `71.0`.\n",
    "\n",
    "Invoking `score(80.0, 100.0, 90.0)` returns `90.0`.\n",
    "\n",
    "</details>"
   ]
  },
  {
   "cell_type": "code",
   "execution_count": null,
   "metadata": {
    "vscode": {
     "languageId": "plaintext"
    }
   },
   "outputs": [],
   "source": []
  },
  {
   "cell_type": "markdown",
   "metadata": {},
   "source": [
    "## Problem 9\n",
    "\n",
    "Define a function that takes a score between `0.0` and `100.0` and returns a letter grade according to the syllabus for this course.\n",
    "The letter grade returned should be *capitalized* and should include `+` or `-` as appropriate.\n",
    "\n",
    "| **Name:**         | `grade`         |\n",
    "| ----------------- | --------------- |\n",
    "| **Inputs:**       | (`arg1: float`) |\n",
    "| **Outputs:**      | (`str`)         |\n",
    "| **Side Effects:** |                 |\n",
    "| **Restrictions:** |                 |\n",
    "\n",
    "<details open><summary>Example</summary>\n",
    "\n",
    "### Example Input & Output\n",
    "\n",
    "Invoking `grade(100.0)` returns `A`.\n",
    "\n",
    "Invoking `grade(91.2)` returns `A-`.\n",
    "\n",
    "Invoking `grade(69.5)` returns `C-`.\n",
    "\n",
    "Invoking `grade(59.0)` returns `F`.\n",
    "\n",
    "</details>"
   ]
  },
  {
   "cell_type": "code",
   "execution_count": null,
   "metadata": {
    "vscode": {
     "languageId": "plaintext"
    }
   },
   "outputs": [],
   "source": []
  },
  {
   "cell_type": "markdown",
   "metadata": {},
   "source": [
    "## Problem 10\n",
    "\n",
    "Define a function that takes a letter grade for this class and displays a message to the terminal based on that grade.\n",
    "The message can be whatever you want, but *different grades* **must** *display different messages!*\n",
    "\n",
    "| **Name:**         | `report_card`       |\n",
    "| ----------------- | ---------------     |\n",
    "| **Inputs:**       | (`arg1: str`)       |\n",
    "| **Outputs:**      |                     |\n",
    "| **Side Effects:** | Writes to `stdout`. |\n",
    "| **Restrictions:** |                     |\n",
    "\n",
    "<details open><summary>Example</summary>\n",
    "\n",
    "### Example Input & Output\n",
    "\n",
    "Invoking `report_card(\"A\")` displays `nice` in the terminal.\n",
    "\n",
    "Invoking `report_card(\"A-\")` displays `hmmm` in the terminal.\n",
    "\n",
    "Invoking `report_card(\"F\")` displays `uh.` in the terminal.\n",
    "\n",
    "</details>"
   ]
  },
  {
   "cell_type": "code",
   "execution_count": null,
   "metadata": {
    "vscode": {
     "languageId": "plaintext"
    }
   },
   "outputs": [],
   "source": []
  }
 ],
 "metadata": {
  "kernelspec": {
   "display_name": "Python 3",
   "language": "python",
   "name": "python3"
  },
  "language_info": {
   "codemirror_mode": {
    "name": "ipython",
    "version": 3
   },
   "file_extension": ".py",
   "mimetype": "text/x-python",
   "name": "python",
   "nbconvert_exporter": "python",
   "pygments_lexer": "ipython3",
   "version": "3.12.4"
  }
 },
 "nbformat": 4,
 "nbformat_minor": 2
}
